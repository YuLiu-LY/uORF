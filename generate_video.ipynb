{
 "cells": [
  {
   "cell_type": "code",
   "execution_count": 13,
   "metadata": {},
   "outputs": [],
   "source": [
    "import os\n",
    "import cv2\n",
    "from glob import glob\n",
    "\n",
    "def mkdir(path):\n",
    "    if not os.path.exists(path):\n",
    "        os.makedirs(path)\n",
    "img_folder = '/home/yuliu/Projects/uORF/results/1200/testset_latest/images'\n",
    "mkdir('./video')\n",
    "mkdir('./gif')\n",
    "\n",
    "def generate_video(img_paths, video_name, fps=5):\n",
    "    img = cv2.imread(img_paths[0])\n",
    "    height, width, channels = img.shape\n",
    "\n",
    "    # initialize video writer\n",
    "    fourcc = cv2.VideoWriter_fourcc(*'XVID')\n",
    "    video = cv2.VideoWriter(video_name, fourcc, fps, (width, height))\n",
    "\n",
    "    # write images to video\n",
    "    for img_path in img_paths:\n",
    "        img = cv2.imread(img_path)\n",
    "        img = cv2.convertScaleAbs(img, alpha=1.8, beta=1)\n",
    "        video.write(img)\n",
    "\n",
    "    # release video writer\n",
    "    video.release()"
   ]
  },
  {
   "cell_type": "code",
   "execution_count": 14,
   "metadata": {},
   "outputs": [
    {
     "data": {
      "text/plain": [
       "True"
      ]
     },
     "execution_count": 14,
     "metadata": {},
     "output_type": "execute_result"
    }
   ],
   "source": [
    "img_id = '00000_sc0000'\n",
    "path = f'{img_folder}/{img_id}_az00_0000_input_image.png'\n",
    "img = cv2.imread(path)\n",
    "img = cv2.convertScaleAbs(img, alpha=1.8, beta=1)\n",
    "cv2.imwrite('./gif/input.png', img)"
   ]
  },
  {
   "cell_type": "code",
   "execution_count": 15,
   "metadata": {},
   "outputs": [
    {
     "name": "stdout",
     "output_type": "stream",
     "text": [
      "32\n"
     ]
    },
    {
     "name": "stderr",
     "output_type": "stream",
     "text": [
      "OpenCV: FFMPEG: tag 0x44495658/'XVID' is not supported with codec id 12 and format 'mp4 / MP4 (MPEG-4 Part 14)'\n",
      "OpenCV: FFMPEG: fallback to use tag 0x7634706d/'mp4v'\n"
     ]
    }
   ],
   "source": [
    "recons = sorted(glob(f'{img_folder}/{img_id}_*x_rec*.png'))\n",
    "print(len(recons))\n",
    "video_name = './video/recon.mp4'\n",
    "generate_video(recons, video_name, 16)"
   ]
  },
  {
   "cell_type": "code",
   "execution_count": 16,
   "metadata": {},
   "outputs": [
    {
     "name": "stdout",
     "output_type": "stream",
     "text": [
      "32\n"
     ]
    },
    {
     "name": "stderr",
     "output_type": "stream",
     "text": [
      "OpenCV: FFMPEG: tag 0x44495658/'XVID' is not supported with codec id 12 and format 'mp4 / MP4 (MPEG-4 Part 14)'\n",
      "OpenCV: FFMPEG: fallback to use tag 0x7634706d/'mp4v'\n"
     ]
    }
   ],
   "source": [
    "mask = sorted(glob(f'{img_folder}/{img_id}_*mask*.png'))\n",
    "print(len(mask))\n",
    "video_name = './video/mask.mp4'\n",
    "generate_video(mask, video_name, 16)"
   ]
  },
  {
   "cell_type": "code",
   "execution_count": 17,
   "metadata": {},
   "outputs": [
    {
     "name": "stdout",
     "output_type": "stream",
     "text": [
      "0 32\n",
      "1 32\n",
      "2 32\n",
      "3 32\n",
      "4 32\n"
     ]
    },
    {
     "name": "stderr",
     "output_type": "stream",
     "text": [
      "OpenCV: FFMPEG: tag 0x44495658/'XVID' is not supported with codec id 12 and format 'mp4 / MP4 (MPEG-4 Part 14)'\n",
      "OpenCV: FFMPEG: fallback to use tag 0x7634706d/'mp4v'\n",
      "OpenCV: FFMPEG: tag 0x44495658/'XVID' is not supported with codec id 12 and format 'mp4 / MP4 (MPEG-4 Part 14)'\n",
      "OpenCV: FFMPEG: fallback to use tag 0x7634706d/'mp4v'\n",
      "OpenCV: FFMPEG: tag 0x44495658/'XVID' is not supported with codec id 12 and format 'mp4 / MP4 (MPEG-4 Part 14)'\n",
      "OpenCV: FFMPEG: fallback to use tag 0x7634706d/'mp4v'\n",
      "OpenCV: FFMPEG: tag 0x44495658/'XVID' is not supported with codec id 12 and format 'mp4 / MP4 (MPEG-4 Part 14)'\n",
      "OpenCV: FFMPEG: fallback to use tag 0x7634706d/'mp4v'\n",
      "OpenCV: FFMPEG: tag 0x44495658/'XVID' is not supported with codec id 12 and format 'mp4 / MP4 (MPEG-4 Part 14)'\n",
      "OpenCV: FFMPEG: fallback to use tag 0x7634706d/'mp4v'\n"
     ]
    }
   ],
   "source": [
    "for i in range(5):\n",
    "    slot = sorted(glob(f'{img_folder}/{img_id}_*slot{i}*.png'))\n",
    "    print(i, len(slot))\n",
    "    video_name = f'./video/slot{i}.mp4'\n",
    "    generate_video(slot, video_name, 16)"
   ]
  },
  {
   "cell_type": "code",
   "execution_count": 18,
   "metadata": {},
   "outputs": [],
   "source": [
    "# video to gif\n",
    "import imageio\n",
    "from moviepy.editor import *\n",
    "\n",
    "def video2gif(video_file):\n",
    "    gif_file = video_file.replace('.mp4', '.gif').replace('video', 'gif')\n",
    "\n",
    "    clip = VideoFileClip(video_file)\n",
    "    clip.write_gif(gif_file)\n",
    "    clip.close()\n"
   ]
  },
  {
   "cell_type": "code",
   "execution_count": 19,
   "metadata": {},
   "outputs": [
    {
     "name": "stdout",
     "output_type": "stream",
     "text": [
      "MoviePy - Building file ./gif/mask.gif with imageio.\n"
     ]
    },
    {
     "name": "stderr",
     "output_type": "stream",
     "text": [
      "                                                             \r"
     ]
    },
    {
     "name": "stdout",
     "output_type": "stream",
     "text": [
      "MoviePy - Building file ./gif/recon.gif with imageio.\n"
     ]
    },
    {
     "name": "stderr",
     "output_type": "stream",
     "text": [
      "                                                             \r"
     ]
    },
    {
     "name": "stdout",
     "output_type": "stream",
     "text": [
      "MoviePy - Building file ./gif/slot0.gif with imageio.\n"
     ]
    },
    {
     "name": "stderr",
     "output_type": "stream",
     "text": [
      "                                                             \r"
     ]
    },
    {
     "name": "stdout",
     "output_type": "stream",
     "text": [
      "MoviePy - Building file ./gif/slot1.gif with imageio.\n"
     ]
    },
    {
     "name": "stderr",
     "output_type": "stream",
     "text": [
      "                                                             \r"
     ]
    },
    {
     "name": "stdout",
     "output_type": "stream",
     "text": [
      "MoviePy - Building file ./gif/slot2.gif with imageio.\n"
     ]
    },
    {
     "name": "stderr",
     "output_type": "stream",
     "text": [
      "                                                             \r"
     ]
    },
    {
     "name": "stdout",
     "output_type": "stream",
     "text": [
      "MoviePy - Building file ./gif/slot3.gif with imageio.\n"
     ]
    },
    {
     "name": "stderr",
     "output_type": "stream",
     "text": [
      "                                                             \r"
     ]
    },
    {
     "name": "stdout",
     "output_type": "stream",
     "text": [
      "MoviePy - Building file ./gif/slot4.gif with imageio.\n"
     ]
    },
    {
     "name": "stderr",
     "output_type": "stream",
     "text": [
      "                                                             \r"
     ]
    }
   ],
   "source": [
    "video_paths = sorted(glob(f'./video/*.mp4'))\n",
    "for video_path in video_paths:\n",
    "    video2gif(video_path)"
   ]
  }
 ],
 "metadata": {
  "kernelspec": {
   "display_name": "uorf-3090",
   "language": "python",
   "name": "python3"
  },
  "language_info": {
   "codemirror_mode": {
    "name": "ipython",
    "version": 3
   },
   "file_extension": ".py",
   "mimetype": "text/x-python",
   "name": "python",
   "nbconvert_exporter": "python",
   "pygments_lexer": "ipython3",
   "version": "3.8.8"
  },
  "orig_nbformat": 4,
  "vscode": {
   "interpreter": {
    "hash": "4cd2643e24efcf5bd02a5a4b4c332f2b564d399dd98dadb2573b59d8db9a6c1c"
   }
  }
 },
 "nbformat": 4,
 "nbformat_minor": 2
}
